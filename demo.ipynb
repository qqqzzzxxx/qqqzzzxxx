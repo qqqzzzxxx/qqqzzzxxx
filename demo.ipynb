{
 "cells": [
  {
   "cell_type": "code",
   "execution_count": 44,
   "id": "initial_id",
   "metadata": {
    "collapsed": true,
    "ExecuteTime": {
     "end_time": "2023-11-24T08:12:56.920265500Z",
     "start_time": "2023-11-24T08:12:56.896679400Z"
    }
   },
   "outputs": [],
   "source": [
    "import pymongo\n",
    "import pandas as pd\n",
    "\n",
    "client = pymongo.MongoClient(\"mongodb://localhost:27017\")\n",
    "db = client[\"zh_top\"]\n",
    "collection_quest = db[\"top_quest\"]\n",
    "collection_react=db['top_react']\n",
    "\n",
    "# 查询数据并转换为 DataFrame\n",
    "data_quest = list(collection_quest.find())\n",
    "data_react = list(collection_react.find())\n",
    "df = pd.DataFrame(data_quest)\n",
    "df_react = pd.DataFrame(data_react)\n",
    "\n",
    "df['标签'] = df['topics'].apply(lambda x: [topic['name'] for topic in x])\n",
    "\n",
    "df = df.rename(columns={'title': '标题'})\n"
   ]
  },
  {
   "cell_type": "code",
   "execution_count": 45,
   "outputs": [],
   "source": [
    "df_react = df_react.rename(columns={'follow_num': '关注量','answer_num':'回答量','upvote_num':'赞同量','pv':'浏览量'})"
   ],
   "metadata": {
    "collapsed": false,
    "ExecuteTime": {
     "end_time": "2023-11-24T08:12:57.728598700Z",
     "start_time": "2023-11-24T08:12:57.717517300Z"
    }
   },
   "id": "8c21ddb996649348"
  },
  {
   "cell_type": "code",
   "execution_count": 48,
   "outputs": [],
   "source": [
    "df_data = pd.merge(df,df_react)"
   ],
   "metadata": {
    "collapsed": false,
    "ExecuteTime": {
     "end_time": "2023-11-24T08:13:49.620590400Z",
     "start_time": "2023-11-24T08:13:49.598693500Z"
    }
   },
   "id": "294d8f8813ec1519"
  },
  {
   "cell_type": "code",
   "execution_count": 49,
   "outputs": [
    {
     "data": {
      "text/plain": "Empty DataFrame\nColumns: [_id, url, created, updated_time, 标题, highlight_title, type, id, token, is_recent_hot, have_answer, question_answer_url, topics, label, creator, num, 标签, new_pv, new_pv_7_days, new_follow_num, new_follow_num_7_days, new_answer_num, new_answer_num_7_days, new_upvote_num, new_upvote_num_7_days, 浏览量, 关注量, 回答量, 赞同量, pv_incr_rate, head_percent, new_pv_yesterday, new_pv_t_yesterday, score, score_level, text]\nIndex: []\n\n[0 rows x 36 columns]",
      "text/html": "<div>\n<style scoped>\n    .dataframe tbody tr th:only-of-type {\n        vertical-align: middle;\n    }\n\n    .dataframe tbody tr th {\n        vertical-align: top;\n    }\n\n    .dataframe thead th {\n        text-align: right;\n    }\n</style>\n<table border=\"1\" class=\"dataframe\">\n  <thead>\n    <tr style=\"text-align: right;\">\n      <th></th>\n      <th>_id</th>\n      <th>url</th>\n      <th>created</th>\n      <th>updated_time</th>\n      <th>标题</th>\n      <th>highlight_title</th>\n      <th>type</th>\n      <th>id</th>\n      <th>token</th>\n      <th>is_recent_hot</th>\n      <th>...</th>\n      <th>关注量</th>\n      <th>回答量</th>\n      <th>赞同量</th>\n      <th>pv_incr_rate</th>\n      <th>head_percent</th>\n      <th>new_pv_yesterday</th>\n      <th>new_pv_t_yesterday</th>\n      <th>score</th>\n      <th>score_level</th>\n      <th>text</th>\n    </tr>\n  </thead>\n  <tbody>\n  </tbody>\n</table>\n<p>0 rows × 36 columns</p>\n</div>"
     },
     "execution_count": 49,
     "metadata": {},
     "output_type": "execute_result"
    }
   ],
   "source": [
    "df_data"
   ],
   "metadata": {
    "collapsed": false,
    "ExecuteTime": {
     "end_time": "2023-11-24T08:13:51.333846900Z",
     "start_time": "2023-11-24T08:13:51.317859400Z"
    }
   },
   "id": "1e1cfe7a529a117"
  },
  {
   "cell_type": "code",
   "execution_count": 50,
   "outputs": [
    {
     "data": {
      "text/plain": "                                                    标题  \\\n0            缅北电诈重要头目明国平、明菊兰、明珍珍被成功抓获并移交中国警方，哪些信息值得关注？   \n1                                      有哪些瞬间你秒懂了别人的暗示？   \n2       S13 总决赛 T1 3:0 击败 WBG 夺得队史第四座全球总决赛冠军，如何评价这场比赛？   \n3                               如何看待亮亮丽君夫妇被殴打后离开郑州回老家？   \n4    如何评价缅方11月15日组织对明学昌抓捕期间，明学昌畏罪自杀身亡，其儿女被成功抓获并移交我国...   \n..                                                 ...   \n202                  RNG 电子竞技俱乐部官宣 Letme 回归，对此你有什么想说的？   \n203                                        中国对世界有什么贡献？   \n204                                       有哪些反直觉的历史事实？   \n205                    如何评价清华大学 2023 年本科生特等奖学金的15名候选人？   \n206                                      山东哪些事，颠覆了你认知？   \n\n                                                    标签  \\\n0                                        [互联网, 法律, 社会]   \n1                                        [情感, 人, 人际交往]   \n2    [英雄联盟（LoL）, 英雄联盟全球总决赛（LoL WCS）, T1 英雄联盟战队（SK T...   \n3                                    [社会, 郑州, 胡浩亮（亮亮）]   \n4                                   [缅甸, 战狼（电影）, 缅北诈骗]   \n..                                                 ...   \n202  [电子竞技, 英雄联盟（LoL）, RNG 英雄联盟战队（Royal Never Give ...   \n203                                               [中国]   \n204                                   [中国历史, 历史, 欧洲历史]   \n205                                 [清华大学, 本科生, 特等奖学金]   \n206                                  [山东, X 的有趣故事, 济南]   \n\n                                          url  num  \n0    https://www.zhihu.com/question/630425466    0  \n1    https://www.zhihu.com/question/611121856    1  \n2    https://www.zhihu.com/question/630835967    2  \n3    https://www.zhihu.com/question/631291357    3  \n4    https://www.zhihu.com/question/630438306    4  \n..                                        ...  ...  \n202  https://www.zhihu.com/question/630960339  213  \n203  https://www.zhihu.com/question/396241266  214  \n204  https://www.zhihu.com/question/452637819  215  \n205  https://www.zhihu.com/question/629753463  216  \n206  https://www.zhihu.com/question/618267691  217  \n\n[207 rows x 4 columns]",
      "text/html": "<div>\n<style scoped>\n    .dataframe tbody tr th:only-of-type {\n        vertical-align: middle;\n    }\n\n    .dataframe tbody tr th {\n        vertical-align: top;\n    }\n\n    .dataframe thead th {\n        text-align: right;\n    }\n</style>\n<table border=\"1\" class=\"dataframe\">\n  <thead>\n    <tr style=\"text-align: right;\">\n      <th></th>\n      <th>标题</th>\n      <th>标签</th>\n      <th>url</th>\n      <th>num</th>\n    </tr>\n  </thead>\n  <tbody>\n    <tr>\n      <th>0</th>\n      <td>缅北电诈重要头目明国平、明菊兰、明珍珍被成功抓获并移交中国警方，哪些信息值得关注？</td>\n      <td>[互联网, 法律, 社会]</td>\n      <td>https://www.zhihu.com/question/630425466</td>\n      <td>0</td>\n    </tr>\n    <tr>\n      <th>1</th>\n      <td>有哪些瞬间你秒懂了别人的暗示？</td>\n      <td>[情感, 人, 人际交往]</td>\n      <td>https://www.zhihu.com/question/611121856</td>\n      <td>1</td>\n    </tr>\n    <tr>\n      <th>2</th>\n      <td>S13 总决赛 T1 3:0 击败 WBG 夺得队史第四座全球总决赛冠军，如何评价这场比赛？</td>\n      <td>[英雄联盟（LoL）, 英雄联盟全球总决赛（LoL WCS）, T1 英雄联盟战队（SK T...</td>\n      <td>https://www.zhihu.com/question/630835967</td>\n      <td>2</td>\n    </tr>\n    <tr>\n      <th>3</th>\n      <td>如何看待亮亮丽君夫妇被殴打后离开郑州回老家？</td>\n      <td>[社会, 郑州, 胡浩亮（亮亮）]</td>\n      <td>https://www.zhihu.com/question/631291357</td>\n      <td>3</td>\n    </tr>\n    <tr>\n      <th>4</th>\n      <td>如何评价缅方11月15日组织对明学昌抓捕期间，明学昌畏罪自杀身亡，其儿女被成功抓获并移交我国...</td>\n      <td>[缅甸, 战狼（电影）, 缅北诈骗]</td>\n      <td>https://www.zhihu.com/question/630438306</td>\n      <td>4</td>\n    </tr>\n    <tr>\n      <th>...</th>\n      <td>...</td>\n      <td>...</td>\n      <td>...</td>\n      <td>...</td>\n    </tr>\n    <tr>\n      <th>202</th>\n      <td>RNG 电子竞技俱乐部官宣 Letme 回归，对此你有什么想说的？</td>\n      <td>[电子竞技, 英雄联盟（LoL）, RNG 英雄联盟战队（Royal Never Give ...</td>\n      <td>https://www.zhihu.com/question/630960339</td>\n      <td>213</td>\n    </tr>\n    <tr>\n      <th>203</th>\n      <td>中国对世界有什么贡献？</td>\n      <td>[中国]</td>\n      <td>https://www.zhihu.com/question/396241266</td>\n      <td>214</td>\n    </tr>\n    <tr>\n      <th>204</th>\n      <td>有哪些反直觉的历史事实？</td>\n      <td>[中国历史, 历史, 欧洲历史]</td>\n      <td>https://www.zhihu.com/question/452637819</td>\n      <td>215</td>\n    </tr>\n    <tr>\n      <th>205</th>\n      <td>如何评价清华大学 2023 年本科生特等奖学金的15名候选人？</td>\n      <td>[清华大学, 本科生, 特等奖学金]</td>\n      <td>https://www.zhihu.com/question/629753463</td>\n      <td>216</td>\n    </tr>\n    <tr>\n      <th>206</th>\n      <td>山东哪些事，颠覆了你认知？</td>\n      <td>[山东, X 的有趣故事, 济南]</td>\n      <td>https://www.zhihu.com/question/618267691</td>\n      <td>217</td>\n    </tr>\n  </tbody>\n</table>\n<p>207 rows × 4 columns</p>\n</div>"
     },
     "execution_count": 50,
     "metadata": {},
     "output_type": "execute_result"
    }
   ],
   "source": [
    "df_data = df[['标题','标签','url','num']]\n",
    "df_data"
   ],
   "metadata": {
    "collapsed": false,
    "ExecuteTime": {
     "end_time": "2023-11-24T08:15:02.986653100Z",
     "start_time": "2023-11-24T08:15:02.960087300Z"
    }
   },
   "id": "895e132f2b287e43"
  },
  {
   "cell_type": "code",
   "execution_count": 51,
   "outputs": [
    {
     "data": {
      "text/plain": "       关注量        浏览量   回答量     赞同量  num\n0     4283   32206601  1466  188885    0\n1     6347  122321215  1557  406424    1\n2     5140   14002399  4168   45626    2\n3    11370   35005182  4820  392510    3\n4     1701   18981211   715   96338    4\n..     ...        ...   ...     ...  ...\n202    247    1561201   190    2218  213\n203   1414    7275979   559   91132  214\n204   4549   29594027   761  146570  215\n205   1837   10665060   439   31257  216\n206   1226   16111927   421   96377  217\n\n[207 rows x 5 columns]",
      "text/html": "<div>\n<style scoped>\n    .dataframe tbody tr th:only-of-type {\n        vertical-align: middle;\n    }\n\n    .dataframe tbody tr th {\n        vertical-align: top;\n    }\n\n    .dataframe thead th {\n        text-align: right;\n    }\n</style>\n<table border=\"1\" class=\"dataframe\">\n  <thead>\n    <tr style=\"text-align: right;\">\n      <th></th>\n      <th>关注量</th>\n      <th>浏览量</th>\n      <th>回答量</th>\n      <th>赞同量</th>\n      <th>num</th>\n    </tr>\n  </thead>\n  <tbody>\n    <tr>\n      <th>0</th>\n      <td>4283</td>\n      <td>32206601</td>\n      <td>1466</td>\n      <td>188885</td>\n      <td>0</td>\n    </tr>\n    <tr>\n      <th>1</th>\n      <td>6347</td>\n      <td>122321215</td>\n      <td>1557</td>\n      <td>406424</td>\n      <td>1</td>\n    </tr>\n    <tr>\n      <th>2</th>\n      <td>5140</td>\n      <td>14002399</td>\n      <td>4168</td>\n      <td>45626</td>\n      <td>2</td>\n    </tr>\n    <tr>\n      <th>3</th>\n      <td>11370</td>\n      <td>35005182</td>\n      <td>4820</td>\n      <td>392510</td>\n      <td>3</td>\n    </tr>\n    <tr>\n      <th>4</th>\n      <td>1701</td>\n      <td>18981211</td>\n      <td>715</td>\n      <td>96338</td>\n      <td>4</td>\n    </tr>\n    <tr>\n      <th>...</th>\n      <td>...</td>\n      <td>...</td>\n      <td>...</td>\n      <td>...</td>\n      <td>...</td>\n    </tr>\n    <tr>\n      <th>202</th>\n      <td>247</td>\n      <td>1561201</td>\n      <td>190</td>\n      <td>2218</td>\n      <td>213</td>\n    </tr>\n    <tr>\n      <th>203</th>\n      <td>1414</td>\n      <td>7275979</td>\n      <td>559</td>\n      <td>91132</td>\n      <td>214</td>\n    </tr>\n    <tr>\n      <th>204</th>\n      <td>4549</td>\n      <td>29594027</td>\n      <td>761</td>\n      <td>146570</td>\n      <td>215</td>\n    </tr>\n    <tr>\n      <th>205</th>\n      <td>1837</td>\n      <td>10665060</td>\n      <td>439</td>\n      <td>31257</td>\n      <td>216</td>\n    </tr>\n    <tr>\n      <th>206</th>\n      <td>1226</td>\n      <td>16111927</td>\n      <td>421</td>\n      <td>96377</td>\n      <td>217</td>\n    </tr>\n  </tbody>\n</table>\n<p>207 rows × 5 columns</p>\n</div>"
     },
     "execution_count": 51,
     "metadata": {},
     "output_type": "execute_result"
    }
   ],
   "source": [
    "df_react=df_react[['关注量','浏览量','回答量','赞同量','num']]\n",
    "df_react"
   ],
   "metadata": {
    "collapsed": false,
    "ExecuteTime": {
     "end_time": "2023-11-24T08:15:05.222494400Z",
     "start_time": "2023-11-24T08:15:05.201346600Z"
    }
   },
   "id": "44381b21863b7be8"
  },
  {
   "cell_type": "code",
   "execution_count": 52,
   "outputs": [
    {
     "data": {
      "text/plain": "                                                    标题  \\\n0            缅北电诈重要头目明国平、明菊兰、明珍珍被成功抓获并移交中国警方，哪些信息值得关注？   \n1                                      有哪些瞬间你秒懂了别人的暗示？   \n2       S13 总决赛 T1 3:0 击败 WBG 夺得队史第四座全球总决赛冠军，如何评价这场比赛？   \n3                               如何看待亮亮丽君夫妇被殴打后离开郑州回老家？   \n4    如何评价缅方11月15日组织对明学昌抓捕期间，明学昌畏罪自杀身亡，其儿女被成功抓获并移交我国...   \n..                                                 ...   \n202                  RNG 电子竞技俱乐部官宣 Letme 回归，对此你有什么想说的？   \n203                                        中国对世界有什么贡献？   \n204                                       有哪些反直觉的历史事实？   \n205                    如何评价清华大学 2023 年本科生特等奖学金的15名候选人？   \n206                                      山东哪些事，颠覆了你认知？   \n\n                                                    标签  \\\n0                                        [互联网, 法律, 社会]   \n1                                        [情感, 人, 人际交往]   \n2    [英雄联盟（LoL）, 英雄联盟全球总决赛（LoL WCS）, T1 英雄联盟战队（SK T...   \n3                                    [社会, 郑州, 胡浩亮（亮亮）]   \n4                                   [缅甸, 战狼（电影）, 缅北诈骗]   \n..                                                 ...   \n202  [电子竞技, 英雄联盟（LoL）, RNG 英雄联盟战队（Royal Never Give ...   \n203                                               [中国]   \n204                                   [中国历史, 历史, 欧洲历史]   \n205                                 [清华大学, 本科生, 特等奖学金]   \n206                                  [山东, X 的有趣故事, 济南]   \n\n                                          url  num    关注量        浏览量   回答量  \\\n0    https://www.zhihu.com/question/630425466    0   4283   32206601  1466   \n1    https://www.zhihu.com/question/611121856    1   6347  122321215  1557   \n2    https://www.zhihu.com/question/630835967    2   5140   14002399  4168   \n3    https://www.zhihu.com/question/631291357    3  11370   35005182  4820   \n4    https://www.zhihu.com/question/630438306    4   1701   18981211   715   \n..                                        ...  ...    ...        ...   ...   \n202  https://www.zhihu.com/question/630960339  213    247    1561201   190   \n203  https://www.zhihu.com/question/396241266  214   1414    7275979   559   \n204  https://www.zhihu.com/question/452637819  215   4549   29594027   761   \n205  https://www.zhihu.com/question/629753463  216   1837   10665060   439   \n206  https://www.zhihu.com/question/618267691  217   1226   16111927   421   \n\n        赞同量  \n0    188885  \n1    406424  \n2     45626  \n3    392510  \n4     96338  \n..      ...  \n202    2218  \n203   91132  \n204  146570  \n205   31257  \n206   96377  \n\n[207 rows x 8 columns]",
      "text/html": "<div>\n<style scoped>\n    .dataframe tbody tr th:only-of-type {\n        vertical-align: middle;\n    }\n\n    .dataframe tbody tr th {\n        vertical-align: top;\n    }\n\n    .dataframe thead th {\n        text-align: right;\n    }\n</style>\n<table border=\"1\" class=\"dataframe\">\n  <thead>\n    <tr style=\"text-align: right;\">\n      <th></th>\n      <th>标题</th>\n      <th>标签</th>\n      <th>url</th>\n      <th>num</th>\n      <th>关注量</th>\n      <th>浏览量</th>\n      <th>回答量</th>\n      <th>赞同量</th>\n    </tr>\n  </thead>\n  <tbody>\n    <tr>\n      <th>0</th>\n      <td>缅北电诈重要头目明国平、明菊兰、明珍珍被成功抓获并移交中国警方，哪些信息值得关注？</td>\n      <td>[互联网, 法律, 社会]</td>\n      <td>https://www.zhihu.com/question/630425466</td>\n      <td>0</td>\n      <td>4283</td>\n      <td>32206601</td>\n      <td>1466</td>\n      <td>188885</td>\n    </tr>\n    <tr>\n      <th>1</th>\n      <td>有哪些瞬间你秒懂了别人的暗示？</td>\n      <td>[情感, 人, 人际交往]</td>\n      <td>https://www.zhihu.com/question/611121856</td>\n      <td>1</td>\n      <td>6347</td>\n      <td>122321215</td>\n      <td>1557</td>\n      <td>406424</td>\n    </tr>\n    <tr>\n      <th>2</th>\n      <td>S13 总决赛 T1 3:0 击败 WBG 夺得队史第四座全球总决赛冠军，如何评价这场比赛？</td>\n      <td>[英雄联盟（LoL）, 英雄联盟全球总决赛（LoL WCS）, T1 英雄联盟战队（SK T...</td>\n      <td>https://www.zhihu.com/question/630835967</td>\n      <td>2</td>\n      <td>5140</td>\n      <td>14002399</td>\n      <td>4168</td>\n      <td>45626</td>\n    </tr>\n    <tr>\n      <th>3</th>\n      <td>如何看待亮亮丽君夫妇被殴打后离开郑州回老家？</td>\n      <td>[社会, 郑州, 胡浩亮（亮亮）]</td>\n      <td>https://www.zhihu.com/question/631291357</td>\n      <td>3</td>\n      <td>11370</td>\n      <td>35005182</td>\n      <td>4820</td>\n      <td>392510</td>\n    </tr>\n    <tr>\n      <th>4</th>\n      <td>如何评价缅方11月15日组织对明学昌抓捕期间，明学昌畏罪自杀身亡，其儿女被成功抓获并移交我国...</td>\n      <td>[缅甸, 战狼（电影）, 缅北诈骗]</td>\n      <td>https://www.zhihu.com/question/630438306</td>\n      <td>4</td>\n      <td>1701</td>\n      <td>18981211</td>\n      <td>715</td>\n      <td>96338</td>\n    </tr>\n    <tr>\n      <th>...</th>\n      <td>...</td>\n      <td>...</td>\n      <td>...</td>\n      <td>...</td>\n      <td>...</td>\n      <td>...</td>\n      <td>...</td>\n      <td>...</td>\n    </tr>\n    <tr>\n      <th>202</th>\n      <td>RNG 电子竞技俱乐部官宣 Letme 回归，对此你有什么想说的？</td>\n      <td>[电子竞技, 英雄联盟（LoL）, RNG 英雄联盟战队（Royal Never Give ...</td>\n      <td>https://www.zhihu.com/question/630960339</td>\n      <td>213</td>\n      <td>247</td>\n      <td>1561201</td>\n      <td>190</td>\n      <td>2218</td>\n    </tr>\n    <tr>\n      <th>203</th>\n      <td>中国对世界有什么贡献？</td>\n      <td>[中国]</td>\n      <td>https://www.zhihu.com/question/396241266</td>\n      <td>214</td>\n      <td>1414</td>\n      <td>7275979</td>\n      <td>559</td>\n      <td>91132</td>\n    </tr>\n    <tr>\n      <th>204</th>\n      <td>有哪些反直觉的历史事实？</td>\n      <td>[中国历史, 历史, 欧洲历史]</td>\n      <td>https://www.zhihu.com/question/452637819</td>\n      <td>215</td>\n      <td>4549</td>\n      <td>29594027</td>\n      <td>761</td>\n      <td>146570</td>\n    </tr>\n    <tr>\n      <th>205</th>\n      <td>如何评价清华大学 2023 年本科生特等奖学金的15名候选人？</td>\n      <td>[清华大学, 本科生, 特等奖学金]</td>\n      <td>https://www.zhihu.com/question/629753463</td>\n      <td>216</td>\n      <td>1837</td>\n      <td>10665060</td>\n      <td>439</td>\n      <td>31257</td>\n    </tr>\n    <tr>\n      <th>206</th>\n      <td>山东哪些事，颠覆了你认知？</td>\n      <td>[山东, X 的有趣故事, 济南]</td>\n      <td>https://www.zhihu.com/question/618267691</td>\n      <td>217</td>\n      <td>1226</td>\n      <td>16111927</td>\n      <td>421</td>\n      <td>96377</td>\n    </tr>\n  </tbody>\n</table>\n<p>207 rows × 8 columns</p>\n</div>"
     },
     "execution_count": 52,
     "metadata": {},
     "output_type": "execute_result"
    }
   ],
   "source": [
    "merged_df = pd.merge(df_data, df_react, on='num', how='inner')\n",
    "merged_df"
   ],
   "metadata": {
    "collapsed": false,
    "ExecuteTime": {
     "end_time": "2023-11-24T08:15:35.869654700Z",
     "start_time": "2023-11-24T08:15:35.847108300Z"
    }
   },
   "id": "de47641f8a9ae735"
  },
  {
   "cell_type": "code",
   "execution_count": null,
   "outputs": [],
   "source": [
    "import pandas as pd\n",
    "\n",
    "# 创建示例DataFrame\n",
    "df = pd.DataFrame({'A': [1, 2, 3], 'B': [4, 5, 6], 'C': [7, 8, 9]})\n",
    "\n",
    "# 指定新的列顺序\n",
    "new_order = ['标题', '标签', '关注量','浏览量','回答量','赞同量','url','num']\n",
    "\n",
    "# 使用reindex()函数重新索引列的顺序\n",
    "df = df.reindex(columns=new_order)\n",
    "\n",
    "print(df)"
   ],
   "metadata": {
    "collapsed": false
   },
   "id": "c1b17df0af8aef08"
  },
  {
   "cell_type": "code",
   "execution_count": 39,
   "outputs": [],
   "source": [
    "import ast\n",
    "\n",
    "# 提取每个字典中'name'键对应的值\n",
    "df['topics'] = df['topics'].apply(lambda x: [topic['name'] for topic in x])\n"
   ],
   "metadata": {
    "collapsed": false,
    "ExecuteTime": {
     "end_time": "2023-11-24T07:58:36.128337400Z",
     "start_time": "2023-11-24T07:58:36.116537600Z"
    }
   },
   "id": "715133d70897e63a"
  },
  {
   "cell_type": "code",
   "execution_count": 40,
   "outputs": [
    {
     "data": {
      "text/plain": "                          _id                                       url  \\\n0    656049cd68be6f4cfbef1cb7  https://www.zhihu.com/question/630425466   \n1    656049cd68be6f4cfbef1cb9  https://www.zhihu.com/question/611121856   \n2    656049cd68be6f4cfbef1cbb  https://www.zhihu.com/question/630835967   \n3    656049cd68be6f4cfbef1cbd  https://www.zhihu.com/question/631291357   \n4    656049cd68be6f4cfbef1cbf  https://www.zhihu.com/question/630438306   \n..                        ...                                       ...   \n202  656049d468be6f4cfbef1e4b  https://www.zhihu.com/question/630960339   \n203  656049d468be6f4cfbef1e4d  https://www.zhihu.com/question/396241266   \n204  656049d468be6f4cfbef1e4f  https://www.zhihu.com/question/452637819   \n205  656049d468be6f4cfbef1e51  https://www.zhihu.com/question/629753463   \n206  656049d468be6f4cfbef1e53  https://www.zhihu.com/question/618267691   \n\n                          created                  updated_time  \\\n0   1970-01-01 00:00:01.700131498 1970-01-01 00:00:01.700138442   \n1   1970-01-01 00:00:01.688826626 1970-01-01 00:00:01.688826626   \n2   1970-01-01 00:00:01.700384119 1970-01-01 00:00:01.700392357   \n3   1970-01-01 00:00:01.700627829 1970-01-01 00:00:01.700627829   \n4   1970-01-01 00:00:01.700134799 1970-01-01 00:00:01.700223161   \n..                            ...                           ...   \n202 1970-01-01 00:00:01.700466257 1970-01-01 00:00:01.700466257   \n203 1970-01-01 00:00:01.590028455 1970-01-01 00:00:01.590028455   \n204 1970-01-01 00:00:01.617384165 1970-01-01 00:00:01.663646423   \n205 1970-01-01 00:00:01.699615213 1970-01-01 00:00:01.699684062   \n206 1970-01-01 00:00:01.692523341 1970-01-01 00:00:01.692523341   \n\n                                                 title highlight_title  \\\n0            缅北电诈重要头目明国平、明菊兰、明珍珍被成功抓获并移交中国警方，哪些信息值得关注？                   \n1                                      有哪些瞬间你秒懂了别人的暗示？                   \n2       S13 总决赛 T1 3:0 击败 WBG 夺得队史第四座全球总决赛冠军，如何评价这场比赛？                   \n3                               如何看待亮亮丽君夫妇被殴打后离开郑州回老家？                   \n4    如何评价缅方11月15日组织对明学昌抓捕期间，明学昌畏罪自杀身亡，其儿女被成功抓获并移交我国...                   \n..                                                 ...             ...   \n202                  RNG 电子竞技俱乐部官宣 Letme 回归，对此你有什么想说的？                   \n203                                        中国对世界有什么贡献？                   \n204                                       有哪些反直觉的历史事实？                   \n205                    如何评价清华大学 2023 年本科生特等奖学金的15名候选人？                   \n206                                      山东哪些事，颠覆了你认知？                   \n\n         type         id      token  is_recent_hot  have_answer  \\\n0    question  630425466  630425466          False        False   \n1    question  611121856  611121856          False        False   \n2    question  630835967  630835967          False        False   \n3    question  631291357  631291357          False        False   \n4    question  630438306  630438306          False        False   \n..        ...        ...        ...            ...          ...   \n202  question  630960339  630960339          False        False   \n203  question  396241266  396241266          False        False   \n204  question  452637819  452637819          False        False   \n205  question  629753463  629753463          False        False   \n206  question  618267691  618267691          False        False   \n\n    question_answer_url                                             topics  \\\n0                                                            [互联网, 法律, 社会]   \n1                                                            [情感, 人, 人际交往]   \n2                        [英雄联盟（LoL）, 英雄联盟全球总决赛（LoL WCS）, T1 英雄联盟战队（SK T...   \n3                                                        [社会, 郑州, 胡浩亮（亮亮）]   \n4                                                       [缅甸, 战狼（电影）, 缅北诈骗]   \n..                  ...                                                ...   \n202                      [电子竞技, 英雄联盟（LoL）, RNG 英雄联盟战队（Royal Never Give ...   \n203                                                                   [中国]   \n204                                                       [中国历史, 历史, 欧洲历史]   \n205                                                     [清华大学, 本科生, 特等奖学金]   \n206                                                      [山东, X 的有趣故事, 济南]   \n\n    label                        creator  num  \\\n0          {'url_token': '', 'name': ''}    0   \n1          {'url_token': '', 'name': ''}    1   \n2          {'url_token': '', 'name': ''}    2   \n3          {'url_token': '', 'name': ''}    3   \n4          {'url_token': '', 'name': ''}    4   \n..    ...                            ...  ...   \n202        {'url_token': '', 'name': ''}  213   \n203        {'url_token': '', 'name': ''}  214   \n204        {'url_token': '', 'name': ''}  215   \n205        {'url_token': '', 'name': ''}  216   \n206        {'url_token': '', 'name': ''}  217   \n\n                                                 names  \n0                                        [互联网, 法律, 社会]  \n1                                        [情感, 人, 人际交往]  \n2    [英雄联盟（LoL）, 英雄联盟全球总决赛（LoL WCS）, T1 英雄联盟战队（SK T...  \n3                                    [社会, 郑州, 胡浩亮（亮亮）]  \n4                                   [缅甸, 战狼（电影）, 缅北诈骗]  \n..                                                 ...  \n202  [电子竞技, 英雄联盟（LoL）, RNG 英雄联盟战队（Royal Never Give ...  \n203                                               [中国]  \n204                                   [中国历史, 历史, 欧洲历史]  \n205                                 [清华大学, 本科生, 特等奖学金]  \n206                                  [山东, X 的有趣故事, 济南]  \n\n[207 rows x 17 columns]",
      "text/html": "<div>\n<style scoped>\n    .dataframe tbody tr th:only-of-type {\n        vertical-align: middle;\n    }\n\n    .dataframe tbody tr th {\n        vertical-align: top;\n    }\n\n    .dataframe thead th {\n        text-align: right;\n    }\n</style>\n<table border=\"1\" class=\"dataframe\">\n  <thead>\n    <tr style=\"text-align: right;\">\n      <th></th>\n      <th>_id</th>\n      <th>url</th>\n      <th>created</th>\n      <th>updated_time</th>\n      <th>title</th>\n      <th>highlight_title</th>\n      <th>type</th>\n      <th>id</th>\n      <th>token</th>\n      <th>is_recent_hot</th>\n      <th>have_answer</th>\n      <th>question_answer_url</th>\n      <th>topics</th>\n      <th>label</th>\n      <th>creator</th>\n      <th>num</th>\n      <th>names</th>\n    </tr>\n  </thead>\n  <tbody>\n    <tr>\n      <th>0</th>\n      <td>656049cd68be6f4cfbef1cb7</td>\n      <td>https://www.zhihu.com/question/630425466</td>\n      <td>1970-01-01 00:00:01.700131498</td>\n      <td>1970-01-01 00:00:01.700138442</td>\n      <td>缅北电诈重要头目明国平、明菊兰、明珍珍被成功抓获并移交中国警方，哪些信息值得关注？</td>\n      <td></td>\n      <td>question</td>\n      <td>630425466</td>\n      <td>630425466</td>\n      <td>False</td>\n      <td>False</td>\n      <td></td>\n      <td>[互联网, 法律, 社会]</td>\n      <td></td>\n      <td>{'url_token': '', 'name': ''}</td>\n      <td>0</td>\n      <td>[互联网, 法律, 社会]</td>\n    </tr>\n    <tr>\n      <th>1</th>\n      <td>656049cd68be6f4cfbef1cb9</td>\n      <td>https://www.zhihu.com/question/611121856</td>\n      <td>1970-01-01 00:00:01.688826626</td>\n      <td>1970-01-01 00:00:01.688826626</td>\n      <td>有哪些瞬间你秒懂了别人的暗示？</td>\n      <td></td>\n      <td>question</td>\n      <td>611121856</td>\n      <td>611121856</td>\n      <td>False</td>\n      <td>False</td>\n      <td></td>\n      <td>[情感, 人, 人际交往]</td>\n      <td></td>\n      <td>{'url_token': '', 'name': ''}</td>\n      <td>1</td>\n      <td>[情感, 人, 人际交往]</td>\n    </tr>\n    <tr>\n      <th>2</th>\n      <td>656049cd68be6f4cfbef1cbb</td>\n      <td>https://www.zhihu.com/question/630835967</td>\n      <td>1970-01-01 00:00:01.700384119</td>\n      <td>1970-01-01 00:00:01.700392357</td>\n      <td>S13 总决赛 T1 3:0 击败 WBG 夺得队史第四座全球总决赛冠军，如何评价这场比赛？</td>\n      <td></td>\n      <td>question</td>\n      <td>630835967</td>\n      <td>630835967</td>\n      <td>False</td>\n      <td>False</td>\n      <td></td>\n      <td>[英雄联盟（LoL）, 英雄联盟全球总决赛（LoL WCS）, T1 英雄联盟战队（SK T...</td>\n      <td></td>\n      <td>{'url_token': '', 'name': ''}</td>\n      <td>2</td>\n      <td>[英雄联盟（LoL）, 英雄联盟全球总决赛（LoL WCS）, T1 英雄联盟战队（SK T...</td>\n    </tr>\n    <tr>\n      <th>3</th>\n      <td>656049cd68be6f4cfbef1cbd</td>\n      <td>https://www.zhihu.com/question/631291357</td>\n      <td>1970-01-01 00:00:01.700627829</td>\n      <td>1970-01-01 00:00:01.700627829</td>\n      <td>如何看待亮亮丽君夫妇被殴打后离开郑州回老家？</td>\n      <td></td>\n      <td>question</td>\n      <td>631291357</td>\n      <td>631291357</td>\n      <td>False</td>\n      <td>False</td>\n      <td></td>\n      <td>[社会, 郑州, 胡浩亮（亮亮）]</td>\n      <td></td>\n      <td>{'url_token': '', 'name': ''}</td>\n      <td>3</td>\n      <td>[社会, 郑州, 胡浩亮（亮亮）]</td>\n    </tr>\n    <tr>\n      <th>4</th>\n      <td>656049cd68be6f4cfbef1cbf</td>\n      <td>https://www.zhihu.com/question/630438306</td>\n      <td>1970-01-01 00:00:01.700134799</td>\n      <td>1970-01-01 00:00:01.700223161</td>\n      <td>如何评价缅方11月15日组织对明学昌抓捕期间，明学昌畏罪自杀身亡，其儿女被成功抓获并移交我国...</td>\n      <td></td>\n      <td>question</td>\n      <td>630438306</td>\n      <td>630438306</td>\n      <td>False</td>\n      <td>False</td>\n      <td></td>\n      <td>[缅甸, 战狼（电影）, 缅北诈骗]</td>\n      <td></td>\n      <td>{'url_token': '', 'name': ''}</td>\n      <td>4</td>\n      <td>[缅甸, 战狼（电影）, 缅北诈骗]</td>\n    </tr>\n    <tr>\n      <th>...</th>\n      <td>...</td>\n      <td>...</td>\n      <td>...</td>\n      <td>...</td>\n      <td>...</td>\n      <td>...</td>\n      <td>...</td>\n      <td>...</td>\n      <td>...</td>\n      <td>...</td>\n      <td>...</td>\n      <td>...</td>\n      <td>...</td>\n      <td>...</td>\n      <td>...</td>\n      <td>...</td>\n      <td>...</td>\n    </tr>\n    <tr>\n      <th>202</th>\n      <td>656049d468be6f4cfbef1e4b</td>\n      <td>https://www.zhihu.com/question/630960339</td>\n      <td>1970-01-01 00:00:01.700466257</td>\n      <td>1970-01-01 00:00:01.700466257</td>\n      <td>RNG 电子竞技俱乐部官宣 Letme 回归，对此你有什么想说的？</td>\n      <td></td>\n      <td>question</td>\n      <td>630960339</td>\n      <td>630960339</td>\n      <td>False</td>\n      <td>False</td>\n      <td></td>\n      <td>[电子竞技, 英雄联盟（LoL）, RNG 英雄联盟战队（Royal Never Give ...</td>\n      <td></td>\n      <td>{'url_token': '', 'name': ''}</td>\n      <td>213</td>\n      <td>[电子竞技, 英雄联盟（LoL）, RNG 英雄联盟战队（Royal Never Give ...</td>\n    </tr>\n    <tr>\n      <th>203</th>\n      <td>656049d468be6f4cfbef1e4d</td>\n      <td>https://www.zhihu.com/question/396241266</td>\n      <td>1970-01-01 00:00:01.590028455</td>\n      <td>1970-01-01 00:00:01.590028455</td>\n      <td>中国对世界有什么贡献？</td>\n      <td></td>\n      <td>question</td>\n      <td>396241266</td>\n      <td>396241266</td>\n      <td>False</td>\n      <td>False</td>\n      <td></td>\n      <td>[中国]</td>\n      <td></td>\n      <td>{'url_token': '', 'name': ''}</td>\n      <td>214</td>\n      <td>[中国]</td>\n    </tr>\n    <tr>\n      <th>204</th>\n      <td>656049d468be6f4cfbef1e4f</td>\n      <td>https://www.zhihu.com/question/452637819</td>\n      <td>1970-01-01 00:00:01.617384165</td>\n      <td>1970-01-01 00:00:01.663646423</td>\n      <td>有哪些反直觉的历史事实？</td>\n      <td></td>\n      <td>question</td>\n      <td>452637819</td>\n      <td>452637819</td>\n      <td>False</td>\n      <td>False</td>\n      <td></td>\n      <td>[中国历史, 历史, 欧洲历史]</td>\n      <td></td>\n      <td>{'url_token': '', 'name': ''}</td>\n      <td>215</td>\n      <td>[中国历史, 历史, 欧洲历史]</td>\n    </tr>\n    <tr>\n      <th>205</th>\n      <td>656049d468be6f4cfbef1e51</td>\n      <td>https://www.zhihu.com/question/629753463</td>\n      <td>1970-01-01 00:00:01.699615213</td>\n      <td>1970-01-01 00:00:01.699684062</td>\n      <td>如何评价清华大学 2023 年本科生特等奖学金的15名候选人？</td>\n      <td></td>\n      <td>question</td>\n      <td>629753463</td>\n      <td>629753463</td>\n      <td>False</td>\n      <td>False</td>\n      <td></td>\n      <td>[清华大学, 本科生, 特等奖学金]</td>\n      <td></td>\n      <td>{'url_token': '', 'name': ''}</td>\n      <td>216</td>\n      <td>[清华大学, 本科生, 特等奖学金]</td>\n    </tr>\n    <tr>\n      <th>206</th>\n      <td>656049d468be6f4cfbef1e53</td>\n      <td>https://www.zhihu.com/question/618267691</td>\n      <td>1970-01-01 00:00:01.692523341</td>\n      <td>1970-01-01 00:00:01.692523341</td>\n      <td>山东哪些事，颠覆了你认知？</td>\n      <td></td>\n      <td>question</td>\n      <td>618267691</td>\n      <td>618267691</td>\n      <td>False</td>\n      <td>False</td>\n      <td></td>\n      <td>[山东, X 的有趣故事, 济南]</td>\n      <td></td>\n      <td>{'url_token': '', 'name': ''}</td>\n      <td>217</td>\n      <td>[山东, X 的有趣故事, 济南]</td>\n    </tr>\n  </tbody>\n</table>\n<p>207 rows × 17 columns</p>\n</div>"
     },
     "execution_count": 40,
     "metadata": {},
     "output_type": "execute_result"
    }
   ],
   "source": [
    "df"
   ],
   "metadata": {
    "collapsed": false,
    "ExecuteTime": {
     "end_time": "2023-11-24T07:58:40.286583100Z",
     "start_time": "2023-11-24T07:58:40.254367900Z"
    }
   },
   "id": "e77afde1e071b5a2"
  },
  {
   "cell_type": "code",
   "execution_count": 26,
   "outputs": [
    {
     "ename": "TypeError",
     "evalue": "Cannot cast DatetimeArray to dtype float64",
     "output_type": "error",
     "traceback": [
      "\u001B[1;31m---------------------------------------------------------------------------\u001B[0m",
      "\u001B[1;31mTypeError\u001B[0m                                 Traceback (most recent call last)",
      "Cell \u001B[1;32mIn[26], line 2\u001B[0m\n\u001B[0;32m      1\u001B[0m \u001B[38;5;28;01mimport\u001B[39;00m \u001B[38;5;21;01mdatetime\u001B[39;00m\n\u001B[1;32m----> 2\u001B[0m datetime\u001B[38;5;241m.\u001B[39mdatetime\u001B[38;5;241m.\u001B[39mfromtimestamp(\u001B[43mdf\u001B[49m\u001B[43m[\u001B[49m\u001B[38;5;124;43m'\u001B[39;49m\u001B[38;5;124;43mcreated\u001B[39;49m\u001B[38;5;124;43m'\u001B[39;49m\u001B[43m]\u001B[49m\u001B[38;5;241;43m.\u001B[39;49m\u001B[43mastype\u001B[49m\u001B[43m(\u001B[49m\u001B[38;5;28;43mfloat\u001B[39;49m\u001B[43m)\u001B[49m)\n\u001B[0;32m      3\u001B[0m datetime\u001B[38;5;241m.\u001B[39mdatetime\u001B[38;5;241m.\u001B[39mfromtimestamp(df[\u001B[38;5;124m'\u001B[39m\u001B[38;5;124mupdated_time\u001B[39m\u001B[38;5;124m'\u001B[39m]\u001B[38;5;241m.\u001B[39mastype(\u001B[38;5;28mfloat\u001B[39m))\n",
      "File \u001B[1;32m~\\AppData\\Local\\Programs\\Python\\Python39\\lib\\site-packages\\pandas\\core\\generic.py:6534\u001B[0m, in \u001B[0;36mNDFrame.astype\u001B[1;34m(self, dtype, copy, errors)\u001B[0m\n\u001B[0;32m   6530\u001B[0m     results \u001B[38;5;241m=\u001B[39m [ser\u001B[38;5;241m.\u001B[39mastype(dtype, copy\u001B[38;5;241m=\u001B[39mcopy) \u001B[38;5;28;01mfor\u001B[39;00m _, ser \u001B[38;5;129;01min\u001B[39;00m \u001B[38;5;28mself\u001B[39m\u001B[38;5;241m.\u001B[39mitems()]\n\u001B[0;32m   6532\u001B[0m \u001B[38;5;28;01melse\u001B[39;00m:\n\u001B[0;32m   6533\u001B[0m     \u001B[38;5;66;03m# else, only a single dtype is given\u001B[39;00m\n\u001B[1;32m-> 6534\u001B[0m     new_data \u001B[38;5;241m=\u001B[39m \u001B[38;5;28;43mself\u001B[39;49m\u001B[38;5;241;43m.\u001B[39;49m\u001B[43m_mgr\u001B[49m\u001B[38;5;241;43m.\u001B[39;49m\u001B[43mastype\u001B[49m\u001B[43m(\u001B[49m\u001B[43mdtype\u001B[49m\u001B[38;5;241;43m=\u001B[39;49m\u001B[43mdtype\u001B[49m\u001B[43m,\u001B[49m\u001B[43m \u001B[49m\u001B[43mcopy\u001B[49m\u001B[38;5;241;43m=\u001B[39;49m\u001B[43mcopy\u001B[49m\u001B[43m,\u001B[49m\u001B[43m \u001B[49m\u001B[43merrors\u001B[49m\u001B[38;5;241;43m=\u001B[39;49m\u001B[43merrors\u001B[49m\u001B[43m)\u001B[49m\n\u001B[0;32m   6535\u001B[0m     res \u001B[38;5;241m=\u001B[39m \u001B[38;5;28mself\u001B[39m\u001B[38;5;241m.\u001B[39m_constructor_from_mgr(new_data, axes\u001B[38;5;241m=\u001B[39mnew_data\u001B[38;5;241m.\u001B[39maxes)\n\u001B[0;32m   6536\u001B[0m     \u001B[38;5;28;01mreturn\u001B[39;00m res\u001B[38;5;241m.\u001B[39m__finalize__(\u001B[38;5;28mself\u001B[39m, method\u001B[38;5;241m=\u001B[39m\u001B[38;5;124m\"\u001B[39m\u001B[38;5;124mastype\u001B[39m\u001B[38;5;124m\"\u001B[39m)\n",
      "File \u001B[1;32m~\\AppData\\Local\\Programs\\Python\\Python39\\lib\\site-packages\\pandas\\core\\internals\\managers.py:414\u001B[0m, in \u001B[0;36mBaseBlockManager.astype\u001B[1;34m(self, dtype, copy, errors)\u001B[0m\n\u001B[0;32m    411\u001B[0m \u001B[38;5;28;01melif\u001B[39;00m using_copy_on_write():\n\u001B[0;32m    412\u001B[0m     copy \u001B[38;5;241m=\u001B[39m \u001B[38;5;28;01mFalse\u001B[39;00m\n\u001B[1;32m--> 414\u001B[0m \u001B[38;5;28;01mreturn\u001B[39;00m \u001B[38;5;28;43mself\u001B[39;49m\u001B[38;5;241;43m.\u001B[39;49m\u001B[43mapply\u001B[49m\u001B[43m(\u001B[49m\n\u001B[0;32m    415\u001B[0m \u001B[43m    \u001B[49m\u001B[38;5;124;43m\"\u001B[39;49m\u001B[38;5;124;43mastype\u001B[39;49m\u001B[38;5;124;43m\"\u001B[39;49m\u001B[43m,\u001B[49m\n\u001B[0;32m    416\u001B[0m \u001B[43m    \u001B[49m\u001B[43mdtype\u001B[49m\u001B[38;5;241;43m=\u001B[39;49m\u001B[43mdtype\u001B[49m\u001B[43m,\u001B[49m\n\u001B[0;32m    417\u001B[0m \u001B[43m    \u001B[49m\u001B[43mcopy\u001B[49m\u001B[38;5;241;43m=\u001B[39;49m\u001B[43mcopy\u001B[49m\u001B[43m,\u001B[49m\n\u001B[0;32m    418\u001B[0m \u001B[43m    \u001B[49m\u001B[43merrors\u001B[49m\u001B[38;5;241;43m=\u001B[39;49m\u001B[43merrors\u001B[49m\u001B[43m,\u001B[49m\n\u001B[0;32m    419\u001B[0m \u001B[43m    \u001B[49m\u001B[43musing_cow\u001B[49m\u001B[38;5;241;43m=\u001B[39;49m\u001B[43musing_copy_on_write\u001B[49m\u001B[43m(\u001B[49m\u001B[43m)\u001B[49m\u001B[43m,\u001B[49m\n\u001B[0;32m    420\u001B[0m \u001B[43m\u001B[49m\u001B[43m)\u001B[49m\n",
      "File \u001B[1;32m~\\AppData\\Local\\Programs\\Python\\Python39\\lib\\site-packages\\pandas\\core\\internals\\managers.py:354\u001B[0m, in \u001B[0;36mBaseBlockManager.apply\u001B[1;34m(self, f, align_keys, **kwargs)\u001B[0m\n\u001B[0;32m    352\u001B[0m         applied \u001B[38;5;241m=\u001B[39m b\u001B[38;5;241m.\u001B[39mapply(f, \u001B[38;5;241m*\u001B[39m\u001B[38;5;241m*\u001B[39mkwargs)\n\u001B[0;32m    353\u001B[0m     \u001B[38;5;28;01melse\u001B[39;00m:\n\u001B[1;32m--> 354\u001B[0m         applied \u001B[38;5;241m=\u001B[39m \u001B[38;5;28mgetattr\u001B[39m(b, f)(\u001B[38;5;241m*\u001B[39m\u001B[38;5;241m*\u001B[39mkwargs)\n\u001B[0;32m    355\u001B[0m     result_blocks \u001B[38;5;241m=\u001B[39m extend_blocks(applied, result_blocks)\n\u001B[0;32m    357\u001B[0m out \u001B[38;5;241m=\u001B[39m \u001B[38;5;28mtype\u001B[39m(\u001B[38;5;28mself\u001B[39m)\u001B[38;5;241m.\u001B[39mfrom_blocks(result_blocks, \u001B[38;5;28mself\u001B[39m\u001B[38;5;241m.\u001B[39maxes)\n",
      "File \u001B[1;32m~\\AppData\\Local\\Programs\\Python\\Python39\\lib\\site-packages\\pandas\\core\\internals\\blocks.py:616\u001B[0m, in \u001B[0;36mBlock.astype\u001B[1;34m(self, dtype, copy, errors, using_cow)\u001B[0m\n\u001B[0;32m    596\u001B[0m \u001B[38;5;250m\u001B[39m\u001B[38;5;124;03m\"\"\"\u001B[39;00m\n\u001B[0;32m    597\u001B[0m \u001B[38;5;124;03mCoerce to the new dtype.\u001B[39;00m\n\u001B[0;32m    598\u001B[0m \n\u001B[1;32m   (...)\u001B[0m\n\u001B[0;32m    612\u001B[0m \u001B[38;5;124;03mBlock\u001B[39;00m\n\u001B[0;32m    613\u001B[0m \u001B[38;5;124;03m\"\"\"\u001B[39;00m\n\u001B[0;32m    614\u001B[0m values \u001B[38;5;241m=\u001B[39m \u001B[38;5;28mself\u001B[39m\u001B[38;5;241m.\u001B[39mvalues\n\u001B[1;32m--> 616\u001B[0m new_values \u001B[38;5;241m=\u001B[39m \u001B[43mastype_array_safe\u001B[49m\u001B[43m(\u001B[49m\u001B[43mvalues\u001B[49m\u001B[43m,\u001B[49m\u001B[43m \u001B[49m\u001B[43mdtype\u001B[49m\u001B[43m,\u001B[49m\u001B[43m \u001B[49m\u001B[43mcopy\u001B[49m\u001B[38;5;241;43m=\u001B[39;49m\u001B[43mcopy\u001B[49m\u001B[43m,\u001B[49m\u001B[43m \u001B[49m\u001B[43merrors\u001B[49m\u001B[38;5;241;43m=\u001B[39;49m\u001B[43merrors\u001B[49m\u001B[43m)\u001B[49m\n\u001B[0;32m    618\u001B[0m new_values \u001B[38;5;241m=\u001B[39m maybe_coerce_values(new_values)\n\u001B[0;32m    620\u001B[0m refs \u001B[38;5;241m=\u001B[39m \u001B[38;5;28;01mNone\u001B[39;00m\n",
      "File \u001B[1;32m~\\AppData\\Local\\Programs\\Python\\Python39\\lib\\site-packages\\pandas\\core\\dtypes\\astype.py:238\u001B[0m, in \u001B[0;36mastype_array_safe\u001B[1;34m(values, dtype, copy, errors)\u001B[0m\n\u001B[0;32m    235\u001B[0m     dtype \u001B[38;5;241m=\u001B[39m dtype\u001B[38;5;241m.\u001B[39mnumpy_dtype\n\u001B[0;32m    237\u001B[0m \u001B[38;5;28;01mtry\u001B[39;00m:\n\u001B[1;32m--> 238\u001B[0m     new_values \u001B[38;5;241m=\u001B[39m \u001B[43mastype_array\u001B[49m\u001B[43m(\u001B[49m\u001B[43mvalues\u001B[49m\u001B[43m,\u001B[49m\u001B[43m \u001B[49m\u001B[43mdtype\u001B[49m\u001B[43m,\u001B[49m\u001B[43m \u001B[49m\u001B[43mcopy\u001B[49m\u001B[38;5;241;43m=\u001B[39;49m\u001B[43mcopy\u001B[49m\u001B[43m)\u001B[49m\n\u001B[0;32m    239\u001B[0m \u001B[38;5;28;01mexcept\u001B[39;00m (\u001B[38;5;167;01mValueError\u001B[39;00m, \u001B[38;5;167;01mTypeError\u001B[39;00m):\n\u001B[0;32m    240\u001B[0m     \u001B[38;5;66;03m# e.g. _astype_nansafe can fail on object-dtype of strings\u001B[39;00m\n\u001B[0;32m    241\u001B[0m     \u001B[38;5;66;03m#  trying to convert to float\u001B[39;00m\n\u001B[0;32m    242\u001B[0m     \u001B[38;5;28;01mif\u001B[39;00m errors \u001B[38;5;241m==\u001B[39m \u001B[38;5;124m\"\u001B[39m\u001B[38;5;124mignore\u001B[39m\u001B[38;5;124m\"\u001B[39m:\n",
      "File \u001B[1;32m~\\AppData\\Local\\Programs\\Python\\Python39\\lib\\site-packages\\pandas\\core\\dtypes\\astype.py:180\u001B[0m, in \u001B[0;36mastype_array\u001B[1;34m(values, dtype, copy)\u001B[0m\n\u001B[0;32m    176\u001B[0m     \u001B[38;5;28;01mreturn\u001B[39;00m values\n\u001B[0;32m    178\u001B[0m \u001B[38;5;28;01mif\u001B[39;00m \u001B[38;5;129;01mnot\u001B[39;00m \u001B[38;5;28misinstance\u001B[39m(values, np\u001B[38;5;241m.\u001B[39mndarray):\n\u001B[0;32m    179\u001B[0m     \u001B[38;5;66;03m# i.e. ExtensionArray\u001B[39;00m\n\u001B[1;32m--> 180\u001B[0m     values \u001B[38;5;241m=\u001B[39m \u001B[43mvalues\u001B[49m\u001B[38;5;241;43m.\u001B[39;49m\u001B[43mastype\u001B[49m\u001B[43m(\u001B[49m\u001B[43mdtype\u001B[49m\u001B[43m,\u001B[49m\u001B[43m \u001B[49m\u001B[43mcopy\u001B[49m\u001B[38;5;241;43m=\u001B[39;49m\u001B[43mcopy\u001B[49m\u001B[43m)\u001B[49m\n\u001B[0;32m    182\u001B[0m \u001B[38;5;28;01melse\u001B[39;00m:\n\u001B[0;32m    183\u001B[0m     values \u001B[38;5;241m=\u001B[39m _astype_nansafe(values, dtype, copy\u001B[38;5;241m=\u001B[39mcopy)\n",
      "File \u001B[1;32m~\\AppData\\Local\\Programs\\Python\\Python39\\lib\\site-packages\\pandas\\core\\arrays\\datetimes.py:727\u001B[0m, in \u001B[0;36mDatetimeArray.astype\u001B[1;34m(self, dtype, copy)\u001B[0m\n\u001B[0;32m    725\u001B[0m \u001B[38;5;28;01melif\u001B[39;00m \u001B[38;5;28misinstance\u001B[39m(dtype, PeriodDtype):\n\u001B[0;32m    726\u001B[0m     \u001B[38;5;28;01mreturn\u001B[39;00m \u001B[38;5;28mself\u001B[39m\u001B[38;5;241m.\u001B[39mto_period(freq\u001B[38;5;241m=\u001B[39mdtype\u001B[38;5;241m.\u001B[39mfreq)\n\u001B[1;32m--> 727\u001B[0m \u001B[38;5;28;01mreturn\u001B[39;00m \u001B[43mdtl\u001B[49m\u001B[38;5;241;43m.\u001B[39;49m\u001B[43mDatetimeLikeArrayMixin\u001B[49m\u001B[38;5;241;43m.\u001B[39;49m\u001B[43mastype\u001B[49m\u001B[43m(\u001B[49m\u001B[38;5;28;43mself\u001B[39;49m\u001B[43m,\u001B[49m\u001B[43m \u001B[49m\u001B[43mdtype\u001B[49m\u001B[43m,\u001B[49m\u001B[43m \u001B[49m\u001B[43mcopy\u001B[49m\u001B[43m)\u001B[49m\n",
      "File \u001B[1;32m~\\AppData\\Local\\Programs\\Python\\Python39\\lib\\site-packages\\pandas\\core\\arrays\\datetimelike.py:489\u001B[0m, in \u001B[0;36mDatetimeLikeArrayMixin.astype\u001B[1;34m(self, dtype, copy)\u001B[0m\n\u001B[0;32m    485\u001B[0m \u001B[38;5;28;01melif\u001B[39;00m (dtype\u001B[38;5;241m.\u001B[39mkind \u001B[38;5;129;01min\u001B[39;00m \u001B[38;5;124m\"\u001B[39m\u001B[38;5;124mmM\u001B[39m\u001B[38;5;124m\"\u001B[39m \u001B[38;5;129;01mand\u001B[39;00m \u001B[38;5;28mself\u001B[39m\u001B[38;5;241m.\u001B[39mdtype \u001B[38;5;241m!=\u001B[39m dtype) \u001B[38;5;129;01mor\u001B[39;00m dtype\u001B[38;5;241m.\u001B[39mkind \u001B[38;5;241m==\u001B[39m \u001B[38;5;124m\"\u001B[39m\u001B[38;5;124mf\u001B[39m\u001B[38;5;124m\"\u001B[39m:\n\u001B[0;32m    486\u001B[0m     \u001B[38;5;66;03m# disallow conversion between datetime/timedelta,\u001B[39;00m\n\u001B[0;32m    487\u001B[0m     \u001B[38;5;66;03m# and conversions for any datetimelike to float\u001B[39;00m\n\u001B[0;32m    488\u001B[0m     msg \u001B[38;5;241m=\u001B[39m \u001B[38;5;124mf\u001B[39m\u001B[38;5;124m\"\u001B[39m\u001B[38;5;124mCannot cast \u001B[39m\u001B[38;5;132;01m{\u001B[39;00m\u001B[38;5;28mtype\u001B[39m(\u001B[38;5;28mself\u001B[39m)\u001B[38;5;241m.\u001B[39m\u001B[38;5;18m__name__\u001B[39m\u001B[38;5;132;01m}\u001B[39;00m\u001B[38;5;124m to dtype \u001B[39m\u001B[38;5;132;01m{\u001B[39;00mdtype\u001B[38;5;132;01m}\u001B[39;00m\u001B[38;5;124m\"\u001B[39m\n\u001B[1;32m--> 489\u001B[0m     \u001B[38;5;28;01mraise\u001B[39;00m \u001B[38;5;167;01mTypeError\u001B[39;00m(msg)\n\u001B[0;32m    490\u001B[0m \u001B[38;5;28;01melse\u001B[39;00m:\n\u001B[0;32m    491\u001B[0m     \u001B[38;5;28;01mreturn\u001B[39;00m np\u001B[38;5;241m.\u001B[39masarray(\u001B[38;5;28mself\u001B[39m, dtype\u001B[38;5;241m=\u001B[39mdtype)\n",
      "\u001B[1;31mTypeError\u001B[0m: Cannot cast DatetimeArray to dtype float64"
     ]
    }
   ],
   "source": [
    "import datetime\n",
    "datetime.datetime.fromtimestamp(df['created'].astype(float))\n",
    "datetime.datetime.fromtimestamp(df['updated_time'].astype(float))"
   ],
   "metadata": {
    "collapsed": false,
    "ExecuteTime": {
     "end_time": "2023-11-24T07:48:51.810758Z",
     "start_time": "2023-11-24T07:48:51.654261300Z"
    }
   },
   "id": "930b30bf3357e423"
  },
  {
   "cell_type": "code",
   "execution_count": 21,
   "outputs": [
    {
     "data": {
      "text/plain": "                          _id                                       url  \\\n0    656049cd68be6f4cfbef1cb7  https://www.zhihu.com/question/630425466   \n1    656049cd68be6f4cfbef1cb9  https://www.zhihu.com/question/611121856   \n2    656049cd68be6f4cfbef1cbb  https://www.zhihu.com/question/630835967   \n3    656049cd68be6f4cfbef1cbd  https://www.zhihu.com/question/631291357   \n4    656049cd68be6f4cfbef1cbf  https://www.zhihu.com/question/630438306   \n..                        ...                                       ...   \n202  656049d468be6f4cfbef1e4b  https://www.zhihu.com/question/630960339   \n203  656049d468be6f4cfbef1e4d  https://www.zhihu.com/question/396241266   \n204  656049d468be6f4cfbef1e4f  https://www.zhihu.com/question/452637819   \n205  656049d468be6f4cfbef1e51  https://www.zhihu.com/question/629753463   \n206  656049d468be6f4cfbef1e53  https://www.zhihu.com/question/618267691   \n\n                          created                  updated_time  \\\n0   1970-01-01 00:00:01.700131498 1970-01-01 00:00:01.700138442   \n1   1970-01-01 00:00:01.688826626 1970-01-01 00:00:01.688826626   \n2   1970-01-01 00:00:01.700384119 1970-01-01 00:00:01.700392357   \n3   1970-01-01 00:00:01.700627829 1970-01-01 00:00:01.700627829   \n4   1970-01-01 00:00:01.700134799 1970-01-01 00:00:01.700223161   \n..                            ...                           ...   \n202 1970-01-01 00:00:01.700466257 1970-01-01 00:00:01.700466257   \n203 1970-01-01 00:00:01.590028455 1970-01-01 00:00:01.590028455   \n204 1970-01-01 00:00:01.617384165 1970-01-01 00:00:01.663646423   \n205 1970-01-01 00:00:01.699615213 1970-01-01 00:00:01.699684062   \n206 1970-01-01 00:00:01.692523341 1970-01-01 00:00:01.692523341   \n\n                                                 title highlight_title  \\\n0            缅北电诈重要头目明国平、明菊兰、明珍珍被成功抓获并移交中国警方，哪些信息值得关注？                   \n1                                      有哪些瞬间你秒懂了别人的暗示？                   \n2       S13 总决赛 T1 3:0 击败 WBG 夺得队史第四座全球总决赛冠军，如何评价这场比赛？                   \n3                               如何看待亮亮丽君夫妇被殴打后离开郑州回老家？                   \n4    如何评价缅方11月15日组织对明学昌抓捕期间，明学昌畏罪自杀身亡，其儿女被成功抓获并移交我国...                   \n..                                                 ...             ...   \n202                  RNG 电子竞技俱乐部官宣 Letme 回归，对此你有什么想说的？                   \n203                                        中国对世界有什么贡献？                   \n204                                       有哪些反直觉的历史事实？                   \n205                    如何评价清华大学 2023 年本科生特等奖学金的15名候选人？                   \n206                                      山东哪些事，颠覆了你认知？                   \n\n         type         id      token  is_recent_hot  have_answer  \\\n0    question  630425466  630425466          False        False   \n1    question  611121856  611121856          False        False   \n2    question  630835967  630835967          False        False   \n3    question  631291357  631291357          False        False   \n4    question  630438306  630438306          False        False   \n..        ...        ...        ...            ...          ...   \n202  question  630960339  630960339          False        False   \n203  question  396241266  396241266          False        False   \n204  question  452637819  452637819          False        False   \n205  question  629753463  629753463          False        False   \n206  question  618267691  618267691          False        False   \n\n    question_answer_url                                             topics  \\\n0                        [{'url_token': 19550517, 'name': '互联网'}, {'url...   \n1                        [{'url_token': 19552430, 'name': '情感'}, {'url_...   \n2                        [{'url_token': 19605346, 'name': '英雄联盟（LoL）'},...   \n3                        [{'url_token': 19566933, 'name': '社会'}, {'url_...   \n4                        [{'url_token': 19658592, 'name': '缅甸'}, {'url_...   \n..                  ...                                                ...   \n202                      [{'url_token': 19563451, 'name': '电子竞技'}, {'ur...   \n203                                [{'url_token': 19586942, 'name': '中国'}]   \n204                      [{'url_token': 19551075, 'name': '中国历史'}, {'ur...   \n205                      [{'url_token': 19563245, 'name': '清华大学'}, {'ur...   \n206                      [{'url_token': 19564038, 'name': '山东'}, {'url_...   \n\n    label                        creator  num  \n0          {'url_token': '', 'name': ''}    0  \n1          {'url_token': '', 'name': ''}    1  \n2          {'url_token': '', 'name': ''}    2  \n3          {'url_token': '', 'name': ''}    3  \n4          {'url_token': '', 'name': ''}    4  \n..    ...                            ...  ...  \n202        {'url_token': '', 'name': ''}  213  \n203        {'url_token': '', 'name': ''}  214  \n204        {'url_token': '', 'name': ''}  215  \n205        {'url_token': '', 'name': ''}  216  \n206        {'url_token': '', 'name': ''}  217  \n\n[207 rows x 16 columns]",
      "text/html": "<div>\n<style scoped>\n    .dataframe tbody tr th:only-of-type {\n        vertical-align: middle;\n    }\n\n    .dataframe tbody tr th {\n        vertical-align: top;\n    }\n\n    .dataframe thead th {\n        text-align: right;\n    }\n</style>\n<table border=\"1\" class=\"dataframe\">\n  <thead>\n    <tr style=\"text-align: right;\">\n      <th></th>\n      <th>_id</th>\n      <th>url</th>\n      <th>created</th>\n      <th>updated_time</th>\n      <th>title</th>\n      <th>highlight_title</th>\n      <th>type</th>\n      <th>id</th>\n      <th>token</th>\n      <th>is_recent_hot</th>\n      <th>have_answer</th>\n      <th>question_answer_url</th>\n      <th>topics</th>\n      <th>label</th>\n      <th>creator</th>\n      <th>num</th>\n    </tr>\n  </thead>\n  <tbody>\n    <tr>\n      <th>0</th>\n      <td>656049cd68be6f4cfbef1cb7</td>\n      <td>https://www.zhihu.com/question/630425466</td>\n      <td>1970-01-01 00:00:01.700131498</td>\n      <td>1970-01-01 00:00:01.700138442</td>\n      <td>缅北电诈重要头目明国平、明菊兰、明珍珍被成功抓获并移交中国警方，哪些信息值得关注？</td>\n      <td></td>\n      <td>question</td>\n      <td>630425466</td>\n      <td>630425466</td>\n      <td>False</td>\n      <td>False</td>\n      <td></td>\n      <td>[{'url_token': 19550517, 'name': '互联网'}, {'url...</td>\n      <td></td>\n      <td>{'url_token': '', 'name': ''}</td>\n      <td>0</td>\n    </tr>\n    <tr>\n      <th>1</th>\n      <td>656049cd68be6f4cfbef1cb9</td>\n      <td>https://www.zhihu.com/question/611121856</td>\n      <td>1970-01-01 00:00:01.688826626</td>\n      <td>1970-01-01 00:00:01.688826626</td>\n      <td>有哪些瞬间你秒懂了别人的暗示？</td>\n      <td></td>\n      <td>question</td>\n      <td>611121856</td>\n      <td>611121856</td>\n      <td>False</td>\n      <td>False</td>\n      <td></td>\n      <td>[{'url_token': 19552430, 'name': '情感'}, {'url_...</td>\n      <td></td>\n      <td>{'url_token': '', 'name': ''}</td>\n      <td>1</td>\n    </tr>\n    <tr>\n      <th>2</th>\n      <td>656049cd68be6f4cfbef1cbb</td>\n      <td>https://www.zhihu.com/question/630835967</td>\n      <td>1970-01-01 00:00:01.700384119</td>\n      <td>1970-01-01 00:00:01.700392357</td>\n      <td>S13 总决赛 T1 3:0 击败 WBG 夺得队史第四座全球总决赛冠军，如何评价这场比赛？</td>\n      <td></td>\n      <td>question</td>\n      <td>630835967</td>\n      <td>630835967</td>\n      <td>False</td>\n      <td>False</td>\n      <td></td>\n      <td>[{'url_token': 19605346, 'name': '英雄联盟（LoL）'},...</td>\n      <td></td>\n      <td>{'url_token': '', 'name': ''}</td>\n      <td>2</td>\n    </tr>\n    <tr>\n      <th>3</th>\n      <td>656049cd68be6f4cfbef1cbd</td>\n      <td>https://www.zhihu.com/question/631291357</td>\n      <td>1970-01-01 00:00:01.700627829</td>\n      <td>1970-01-01 00:00:01.700627829</td>\n      <td>如何看待亮亮丽君夫妇被殴打后离开郑州回老家？</td>\n      <td></td>\n      <td>question</td>\n      <td>631291357</td>\n      <td>631291357</td>\n      <td>False</td>\n      <td>False</td>\n      <td></td>\n      <td>[{'url_token': 19566933, 'name': '社会'}, {'url_...</td>\n      <td></td>\n      <td>{'url_token': '', 'name': ''}</td>\n      <td>3</td>\n    </tr>\n    <tr>\n      <th>4</th>\n      <td>656049cd68be6f4cfbef1cbf</td>\n      <td>https://www.zhihu.com/question/630438306</td>\n      <td>1970-01-01 00:00:01.700134799</td>\n      <td>1970-01-01 00:00:01.700223161</td>\n      <td>如何评价缅方11月15日组织对明学昌抓捕期间，明学昌畏罪自杀身亡，其儿女被成功抓获并移交我国...</td>\n      <td></td>\n      <td>question</td>\n      <td>630438306</td>\n      <td>630438306</td>\n      <td>False</td>\n      <td>False</td>\n      <td></td>\n      <td>[{'url_token': 19658592, 'name': '缅甸'}, {'url_...</td>\n      <td></td>\n      <td>{'url_token': '', 'name': ''}</td>\n      <td>4</td>\n    </tr>\n    <tr>\n      <th>...</th>\n      <td>...</td>\n      <td>...</td>\n      <td>...</td>\n      <td>...</td>\n      <td>...</td>\n      <td>...</td>\n      <td>...</td>\n      <td>...</td>\n      <td>...</td>\n      <td>...</td>\n      <td>...</td>\n      <td>...</td>\n      <td>...</td>\n      <td>...</td>\n      <td>...</td>\n      <td>...</td>\n    </tr>\n    <tr>\n      <th>202</th>\n      <td>656049d468be6f4cfbef1e4b</td>\n      <td>https://www.zhihu.com/question/630960339</td>\n      <td>1970-01-01 00:00:01.700466257</td>\n      <td>1970-01-01 00:00:01.700466257</td>\n      <td>RNG 电子竞技俱乐部官宣 Letme 回归，对此你有什么想说的？</td>\n      <td></td>\n      <td>question</td>\n      <td>630960339</td>\n      <td>630960339</td>\n      <td>False</td>\n      <td>False</td>\n      <td></td>\n      <td>[{'url_token': 19563451, 'name': '电子竞技'}, {'ur...</td>\n      <td></td>\n      <td>{'url_token': '', 'name': ''}</td>\n      <td>213</td>\n    </tr>\n    <tr>\n      <th>203</th>\n      <td>656049d468be6f4cfbef1e4d</td>\n      <td>https://www.zhihu.com/question/396241266</td>\n      <td>1970-01-01 00:00:01.590028455</td>\n      <td>1970-01-01 00:00:01.590028455</td>\n      <td>中国对世界有什么贡献？</td>\n      <td></td>\n      <td>question</td>\n      <td>396241266</td>\n      <td>396241266</td>\n      <td>False</td>\n      <td>False</td>\n      <td></td>\n      <td>[{'url_token': 19586942, 'name': '中国'}]</td>\n      <td></td>\n      <td>{'url_token': '', 'name': ''}</td>\n      <td>214</td>\n    </tr>\n    <tr>\n      <th>204</th>\n      <td>656049d468be6f4cfbef1e4f</td>\n      <td>https://www.zhihu.com/question/452637819</td>\n      <td>1970-01-01 00:00:01.617384165</td>\n      <td>1970-01-01 00:00:01.663646423</td>\n      <td>有哪些反直觉的历史事实？</td>\n      <td></td>\n      <td>question</td>\n      <td>452637819</td>\n      <td>452637819</td>\n      <td>False</td>\n      <td>False</td>\n      <td></td>\n      <td>[{'url_token': 19551075, 'name': '中国历史'}, {'ur...</td>\n      <td></td>\n      <td>{'url_token': '', 'name': ''}</td>\n      <td>215</td>\n    </tr>\n    <tr>\n      <th>205</th>\n      <td>656049d468be6f4cfbef1e51</td>\n      <td>https://www.zhihu.com/question/629753463</td>\n      <td>1970-01-01 00:00:01.699615213</td>\n      <td>1970-01-01 00:00:01.699684062</td>\n      <td>如何评价清华大学 2023 年本科生特等奖学金的15名候选人？</td>\n      <td></td>\n      <td>question</td>\n      <td>629753463</td>\n      <td>629753463</td>\n      <td>False</td>\n      <td>False</td>\n      <td></td>\n      <td>[{'url_token': 19563245, 'name': '清华大学'}, {'ur...</td>\n      <td></td>\n      <td>{'url_token': '', 'name': ''}</td>\n      <td>216</td>\n    </tr>\n    <tr>\n      <th>206</th>\n      <td>656049d468be6f4cfbef1e53</td>\n      <td>https://www.zhihu.com/question/618267691</td>\n      <td>1970-01-01 00:00:01.692523341</td>\n      <td>1970-01-01 00:00:01.692523341</td>\n      <td>山东哪些事，颠覆了你认知？</td>\n      <td></td>\n      <td>question</td>\n      <td>618267691</td>\n      <td>618267691</td>\n      <td>False</td>\n      <td>False</td>\n      <td></td>\n      <td>[{'url_token': 19564038, 'name': '山东'}, {'url_...</td>\n      <td></td>\n      <td>{'url_token': '', 'name': ''}</td>\n      <td>217</td>\n    </tr>\n  </tbody>\n</table>\n<p>207 rows × 16 columns</p>\n</div>"
     },
     "execution_count": 21,
     "metadata": {},
     "output_type": "execute_result"
    }
   ],
   "source": [
    "df"
   ],
   "metadata": {
    "collapsed": false,
    "ExecuteTime": {
     "end_time": "2023-11-24T07:44:48.515444700Z",
     "start_time": "2023-11-24T07:44:48.482641500Z"
    }
   },
   "id": "85daf30b00419faf"
  },
  {
   "cell_type": "code",
   "execution_count": 3,
   "outputs": [
    {
     "data": {
      "text/plain": "0      https://www.zhihu.com/question/630425466\n1      https://www.zhihu.com/question/611121856\n2      https://www.zhihu.com/question/630835967\n3      https://www.zhihu.com/question/631291357\n4      https://www.zhihu.com/question/630438306\n                         ...                   \n202    https://www.zhihu.com/question/630960339\n203    https://www.zhihu.com/question/396241266\n204    https://www.zhihu.com/question/452637819\n205    https://www.zhihu.com/question/629753463\n206    https://www.zhihu.com/question/618267691\nName: url, Length: 207, dtype: object"
     },
     "execution_count": 3,
     "metadata": {},
     "output_type": "execute_result"
    }
   ],
   "source": [
    "df['url']"
   ],
   "metadata": {
    "collapsed": false,
    "ExecuteTime": {
     "end_time": "2023-11-24T07:38:13.679547700Z",
     "start_time": "2023-11-24T07:38:13.671445800Z"
    }
   },
   "id": "b2eb089e9f7a143c"
  },
  {
   "cell_type": "code",
   "execution_count": 1,
   "outputs": [],
   "source": [
    "import streamlit as st\n",
    "import pandas as pd\n",
    "import pymongo\n",
    "\n",
    "# 连接到 MongoDB 数据库\n",
    "client = pymongo.MongoClient('localhost', 27017)\n",
    "db = client.pythondb\n",
    "collection = db.ATop\n",
    "\n",
    "results = collection.find()\n",
    "df = pd.DataFrame(list(results))\n",
    "\n",
    "df_show=df[['视频名','播放量','评论数','时间']]"
   ],
   "metadata": {
    "collapsed": false,
    "ExecuteTime": {
     "end_time": "2023-12-01T06:42:39.925278Z",
     "start_time": "2023-12-01T06:42:38.684184300Z"
    }
   },
   "id": "a8b071b2ecc065c3"
  },
  {
   "cell_type": "code",
   "execution_count": 2,
   "outputs": [
    {
     "data": {
      "text/plain": "                                        视频名   播放量 评论数           时间\n0             ★求投五蕉★网络上常见的热门短视频集锦 第一千五百三十七期  2.8万  22  发布于昨天16时16分\n1   挥动的双翼降临于危难之中，如同万年以前带领他们的基因之父【达奇】战锤40K故事  4168  79  发布于昨天20时00分\n2                 答应我，为了Acer，加速研发！欢乐八点档-754  2.1万  33  发布于昨天20时36分\n3                      【AcFun舞蹈月刊】2023年 第十期  3141  51  发布于昨天22时39分\n4                                 易打体质看不得这个  5151  23  发布于昨天21时30分\n5                          是谁打开了水龙头？也太爆汁了吧！  6648  46  发布于昨天18时19分\n6        【独家】【民工杂谈】《博人传》为何燃不了？只想骗钱是编不好子代故事的  3522  43  发布于昨天23时27分\n7             更适合Acer体质的忏悔室【今天有什么好笑的 #1386】  1.1万  17  发布于昨天15时39分\n8                   征稿：这是个搞笑视频，不是vlog【茗魂独家】  2989  76  发布于昨天15时03分\n9                                 重生之我是爱豆小圆  4525  37  发布于昨天22时31分\n10                             羊蝎子，冬日里能驱走寒冷  2890  23  发布于昨天15时27分\n11                 放心看！这是你辛苦一周应得的～bubblepop  1477  30      发布于3小时前\n12                        【年跃龙门】AC娘的春岚（预告版）  1634  41  发布于昨天17时35分\n13                                 史上最强ikun  2066  43  发布于昨天22时34分\n14                       12月玩什么？龙先生的12月新游推荐  2260  23  发布于昨天23时51分\n15         微微一笑 蝴蝶为你倾倒......(今日好笑开心视频：1298)  4702   7  发布于昨天21时59分\n16              真探唐仁杰同款！跑去镇江吃河豚，128元两条算便宜吗？  2757  55  发布于昨天20时03分\n17          绝区零超燃Boss战演示，差点忘了我自己是游戏高手！【绝区零】  2269  32  发布于昨天23时14分\n18                   “美式截停”还得靠火箭筒？！【红白机N合一】  2006   6  发布于昨天14时21分\n19                      【小缘】 2023夏日聚会线下LIVE  1686  38  发布于昨天15时00分\n20                  验房不就看个水电就行了？自如：又草率了吧，朋友  3146  26  发布于昨天17时57分\n21                          好姐妹天天秀#50【小脑聚会】  2239  36     发布于13小时前\n22                  摸鱼必备游戏！肉鸽+自走棋《时行者：黑暗世界》  1638  24  发布于昨天22时00分\n23                  现在幼儿园老师也这么卷了吗？★手机竖屏985★  3768   4      发布于3小时前\n24                       小翔哥是怎么买下上海800平大别墅的  2684  21  发布于昨天17时00分\n25                                     不愧是我  1534  36      发布于3小时前\n26                    【东方】PURE【ぱらどっと House】  1113   4  发布于昨天20时48分\n27                          【杳杳录播】《学园构想家》系列  1675  19  发布于昨天23时30分\n28                                     越南夜游  3579  27  发布于昨天19时27分\n29                            科 普 V 的 理 解 力  1256  16      发布于4小时前",
      "text/html": "<div>\n<style scoped>\n    .dataframe tbody tr th:only-of-type {\n        vertical-align: middle;\n    }\n\n    .dataframe tbody tr th {\n        vertical-align: top;\n    }\n\n    .dataframe thead th {\n        text-align: right;\n    }\n</style>\n<table border=\"1\" class=\"dataframe\">\n  <thead>\n    <tr style=\"text-align: right;\">\n      <th></th>\n      <th>视频名</th>\n      <th>播放量</th>\n      <th>评论数</th>\n      <th>时间</th>\n    </tr>\n  </thead>\n  <tbody>\n    <tr>\n      <th>0</th>\n      <td>★求投五蕉★网络上常见的热门短视频集锦 第一千五百三十七期</td>\n      <td>2.8万</td>\n      <td>22</td>\n      <td>发布于昨天16时16分</td>\n    </tr>\n    <tr>\n      <th>1</th>\n      <td>挥动的双翼降临于危难之中，如同万年以前带领他们的基因之父【达奇】战锤40K故事</td>\n      <td>4168</td>\n      <td>79</td>\n      <td>发布于昨天20时00分</td>\n    </tr>\n    <tr>\n      <th>2</th>\n      <td>答应我，为了Acer，加速研发！欢乐八点档-754</td>\n      <td>2.1万</td>\n      <td>33</td>\n      <td>发布于昨天20时36分</td>\n    </tr>\n    <tr>\n      <th>3</th>\n      <td>【AcFun舞蹈月刊】2023年 第十期</td>\n      <td>3141</td>\n      <td>51</td>\n      <td>发布于昨天22时39分</td>\n    </tr>\n    <tr>\n      <th>4</th>\n      <td>易打体质看不得这个</td>\n      <td>5151</td>\n      <td>23</td>\n      <td>发布于昨天21时30分</td>\n    </tr>\n    <tr>\n      <th>5</th>\n      <td>是谁打开了水龙头？也太爆汁了吧！</td>\n      <td>6648</td>\n      <td>46</td>\n      <td>发布于昨天18时19分</td>\n    </tr>\n    <tr>\n      <th>6</th>\n      <td>【独家】【民工杂谈】《博人传》为何燃不了？只想骗钱是编不好子代故事的</td>\n      <td>3522</td>\n      <td>43</td>\n      <td>发布于昨天23时27分</td>\n    </tr>\n    <tr>\n      <th>7</th>\n      <td>更适合Acer体质的忏悔室【今天有什么好笑的 #1386】</td>\n      <td>1.1万</td>\n      <td>17</td>\n      <td>发布于昨天15时39分</td>\n    </tr>\n    <tr>\n      <th>8</th>\n      <td>征稿：这是个搞笑视频，不是vlog【茗魂独家】</td>\n      <td>2989</td>\n      <td>76</td>\n      <td>发布于昨天15时03分</td>\n    </tr>\n    <tr>\n      <th>9</th>\n      <td>重生之我是爱豆小圆</td>\n      <td>4525</td>\n      <td>37</td>\n      <td>发布于昨天22时31分</td>\n    </tr>\n    <tr>\n      <th>10</th>\n      <td>羊蝎子，冬日里能驱走寒冷</td>\n      <td>2890</td>\n      <td>23</td>\n      <td>发布于昨天15时27分</td>\n    </tr>\n    <tr>\n      <th>11</th>\n      <td>放心看！这是你辛苦一周应得的～bubblepop</td>\n      <td>1477</td>\n      <td>30</td>\n      <td>发布于3小时前</td>\n    </tr>\n    <tr>\n      <th>12</th>\n      <td>【年跃龙门】AC娘的春岚（预告版）</td>\n      <td>1634</td>\n      <td>41</td>\n      <td>发布于昨天17时35分</td>\n    </tr>\n    <tr>\n      <th>13</th>\n      <td>史上最强ikun</td>\n      <td>2066</td>\n      <td>43</td>\n      <td>发布于昨天22时34分</td>\n    </tr>\n    <tr>\n      <th>14</th>\n      <td>12月玩什么？龙先生的12月新游推荐</td>\n      <td>2260</td>\n      <td>23</td>\n      <td>发布于昨天23时51分</td>\n    </tr>\n    <tr>\n      <th>15</th>\n      <td>微微一笑 蝴蝶为你倾倒......(今日好笑开心视频：1298)</td>\n      <td>4702</td>\n      <td>7</td>\n      <td>发布于昨天21时59分</td>\n    </tr>\n    <tr>\n      <th>16</th>\n      <td>真探唐仁杰同款！跑去镇江吃河豚，128元两条算便宜吗？</td>\n      <td>2757</td>\n      <td>55</td>\n      <td>发布于昨天20时03分</td>\n    </tr>\n    <tr>\n      <th>17</th>\n      <td>绝区零超燃Boss战演示，差点忘了我自己是游戏高手！【绝区零】</td>\n      <td>2269</td>\n      <td>32</td>\n      <td>发布于昨天23时14分</td>\n    </tr>\n    <tr>\n      <th>18</th>\n      <td>“美式截停”还得靠火箭筒？！【红白机N合一】</td>\n      <td>2006</td>\n      <td>6</td>\n      <td>发布于昨天14时21分</td>\n    </tr>\n    <tr>\n      <th>19</th>\n      <td>【小缘】 2023夏日聚会线下LIVE</td>\n      <td>1686</td>\n      <td>38</td>\n      <td>发布于昨天15时00分</td>\n    </tr>\n    <tr>\n      <th>20</th>\n      <td>验房不就看个水电就行了？自如：又草率了吧，朋友</td>\n      <td>3146</td>\n      <td>26</td>\n      <td>发布于昨天17时57分</td>\n    </tr>\n    <tr>\n      <th>21</th>\n      <td>好姐妹天天秀#50【小脑聚会】</td>\n      <td>2239</td>\n      <td>36</td>\n      <td>发布于13小时前</td>\n    </tr>\n    <tr>\n      <th>22</th>\n      <td>摸鱼必备游戏！肉鸽+自走棋《时行者：黑暗世界》</td>\n      <td>1638</td>\n      <td>24</td>\n      <td>发布于昨天22时00分</td>\n    </tr>\n    <tr>\n      <th>23</th>\n      <td>现在幼儿园老师也这么卷了吗？★手机竖屏985★</td>\n      <td>3768</td>\n      <td>4</td>\n      <td>发布于3小时前</td>\n    </tr>\n    <tr>\n      <th>24</th>\n      <td>小翔哥是怎么买下上海800平大别墅的</td>\n      <td>2684</td>\n      <td>21</td>\n      <td>发布于昨天17时00分</td>\n    </tr>\n    <tr>\n      <th>25</th>\n      <td>不愧是我</td>\n      <td>1534</td>\n      <td>36</td>\n      <td>发布于3小时前</td>\n    </tr>\n    <tr>\n      <th>26</th>\n      <td>【东方】PURE【ぱらどっと House】</td>\n      <td>1113</td>\n      <td>4</td>\n      <td>发布于昨天20时48分</td>\n    </tr>\n    <tr>\n      <th>27</th>\n      <td>【杳杳录播】《学园构想家》系列</td>\n      <td>1675</td>\n      <td>19</td>\n      <td>发布于昨天23时30分</td>\n    </tr>\n    <tr>\n      <th>28</th>\n      <td>越南夜游</td>\n      <td>3579</td>\n      <td>27</td>\n      <td>发布于昨天19时27分</td>\n    </tr>\n    <tr>\n      <th>29</th>\n      <td>科 普 V 的 理 解 力</td>\n      <td>1256</td>\n      <td>16</td>\n      <td>发布于4小时前</td>\n    </tr>\n  </tbody>\n</table>\n</div>"
     },
     "execution_count": 2,
     "metadata": {},
     "output_type": "execute_result"
    }
   ],
   "source": [
    "df_show"
   ],
   "metadata": {
    "collapsed": false,
    "ExecuteTime": {
     "end_time": "2023-12-01T06:42:42.664805600Z",
     "start_time": "2023-12-01T06:42:42.634687700Z"
    }
   },
   "id": "cf4197e24745c983"
  },
  {
   "cell_type": "code",
   "execution_count": 3,
   "outputs": [
    {
     "data": {
      "text/plain": "0     发布于昨天16时16分\n1     发布于昨天20时00分\n2     发布于昨天20时36分\n3     发布于昨天22时39分\n4     发布于昨天21时30分\n5     发布于昨天18时19分\n6     发布于昨天23时27分\n7     发布于昨天15时39分\n8     发布于昨天15时03分\n9     发布于昨天22时31分\n10    发布于昨天15时27分\n11        发布于3小时前\n12    发布于昨天17时35分\n13    发布于昨天22时34分\n14    发布于昨天23时51分\n15    发布于昨天21时59分\n16    发布于昨天20时03分\n17    发布于昨天23时14分\n18    发布于昨天14时21分\n19    发布于昨天15时00分\n20    发布于昨天17时57分\n21       发布于13小时前\n22    发布于昨天22时00分\n23        发布于3小时前\n24    发布于昨天17时00分\n25        发布于3小时前\n26    发布于昨天20时48分\n27    发布于昨天23时30分\n28    发布于昨天19时27分\n29        发布于4小时前\nName: 时间, dtype: object"
     },
     "execution_count": 3,
     "metadata": {},
     "output_type": "execute_result"
    }
   ],
   "source": [
    "df['时间']"
   ],
   "metadata": {
    "collapsed": false,
    "ExecuteTime": {
     "end_time": "2023-12-01T06:43:06.024085600Z",
     "start_time": "2023-12-01T06:43:06.002160200Z"
    }
   },
   "id": "fa6fc64ef1d932fb"
  },
  {
   "cell_type": "code",
   "execution_count": 24,
   "outputs": [
    {
     "name": "stdout",
     "output_type": "stream",
     "text": [
      "★求投五蕉★网络上常见的热门短视频集锦 第一千五百三十七期\n",
      "发布于昨天16时16分\n",
      "挥动的双翼降临于危难之中，如同万年以前带领他们的基因之父【达奇】战锤40K故事\n",
      "发布于昨天20时00分\n",
      "答应我，为了Acer，加速研发！欢乐八点档-754\n",
      "发布于昨天20时36分\n",
      "【AcFun舞蹈月刊】2023年 第十期\n",
      "发布于昨天22时39分\n",
      "易打体质看不得这个\n",
      "发布于昨天21时30分\n",
      "是谁打开了水龙头？也太爆汁了吧！\n",
      "发布于昨天18时19分\n",
      "【独家】【民工杂谈】《博人传》为何燃不了？只想骗钱是编不好子代故事的\n",
      "发布于昨天23时27分\n",
      "更适合Acer体质的忏悔室【今天有什么好笑的 #1386】\n",
      "发布于昨天15时39分\n",
      "征稿：这是个搞笑视频，不是vlog【茗魂独家】\n",
      "发布于昨天15时03分\n",
      "重生之我是爱豆小圆\n",
      "发布于昨天22时31分\n",
      "羊蝎子，冬日里能驱走寒冷\n",
      "发布于昨天15时27分\n",
      "放心看！这是你辛苦一周应得的～bubblepop\n",
      "发布于3小时前\n",
      "【年跃龙门】AC娘的春岚（预告版）\n",
      "发布于昨天17时35分\n",
      "史上最强ikun\n",
      "发布于昨天22时34分\n",
      "12月玩什么？龙先生的12月新游推荐\n",
      "发布于昨天23时51分\n",
      "微微一笑 蝴蝶为你倾倒......(今日好笑开心视频：1298)\n",
      "发布于昨天21时59分\n",
      "真探唐仁杰同款！跑去镇江吃河豚，128元两条算便宜吗？\n",
      "发布于昨天20时03分\n",
      " 绝区零超燃Boss战演示，差点忘了我自己是游戏高手！【绝区零】\n",
      "发布于昨天23时14分\n",
      "“美式截停”还得靠火箭筒？！【红白机N合一】\n",
      "发布于昨天14时21分\n",
      "【小缘】 2023夏日聚会线下LIVE\n",
      "发布于昨天15时00分\n",
      "验房不就看个水电就行了？自如：又草率了吧，朋友\n",
      "发布于昨天17时57分\n",
      "好姐妹天天秀#50【小脑聚会】\n",
      "发布于13小时前\n",
      "摸鱼必备游戏！肉鸽+自走棋《时行者：黑暗世界》\n",
      "发布于昨天22时00分\n",
      "现在幼儿园老师也这么卷了吗？★手机竖屏985★\n",
      "发布于3小时前\n",
      "小翔哥是怎么买下上海800平大别墅的\n",
      "发布于昨天17时00分\n",
      "不愧是我\n",
      "发布于3小时前\n",
      "【东方】PURE【ぱらどっと House】\n",
      "发布于昨天20时48分\n",
      "【杳杳录播】《学园构想家》系列\n",
      "发布于昨天23时30分\n",
      "越南夜游\n",
      "发布于昨天19时27分\n",
      "科 普 V 的 理 解 力\n",
      "发布于4小时前\n"
     ]
    }
   ],
   "source": [
    "for row in df_show.iterrows():\n",
    "    video_name = row[1]['视频名']\n",
    "    time_value = df.loc[df['视频名'] == video_name, '时间'].values[0]\n",
    "    print(video_name)\n",
    "    print(time_value)"
   ],
   "metadata": {
    "collapsed": false,
    "ExecuteTime": {
     "end_time": "2023-12-01T07:45:42.913565300Z",
     "start_time": "2023-12-01T07:45:42.891416600Z"
    }
   },
   "id": "f0f0430381ba32ce"
  },
  {
   "cell_type": "code",
   "execution_count": null,
   "outputs": [],
   "source": [],
   "metadata": {
    "collapsed": false
   },
   "id": "a268b31e95fc2f2c"
  }
 ],
 "metadata": {
  "kernelspec": {
   "display_name": "Python 3",
   "language": "python",
   "name": "python3"
  },
  "language_info": {
   "codemirror_mode": {
    "name": "ipython",
    "version": 2
   },
   "file_extension": ".py",
   "mimetype": "text/x-python",
   "name": "python",
   "nbconvert_exporter": "python",
   "pygments_lexer": "ipython2",
   "version": "2.7.6"
  }
 },
 "nbformat": 4,
 "nbformat_minor": 5
}
